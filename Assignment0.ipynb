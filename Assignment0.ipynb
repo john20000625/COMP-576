{
 "cells": [
  {
   "cell_type": "markdown",
   "id": "d9983cc4-0bcb-4c14-86c6-d60b340dfa66",
   "metadata": {},
   "source": [
    "## Task 1:\n",
    "active environment : base  \n",
    "active env location : /opt/anaconda3\n",
    "shell level : 1<br>\n",
    "user config file : /Users/shenyunyang/.condarc \n",
    "populated config files : /Users/shenyunyang/.condarc \n",
    "conda version : 4.14.0<br>\n",
    "conda-build version : 3.21.8<br>\n",
    "     python version : 3.9.12.final.0<br>\n",
    "   virtual packages : __osx=10.16=0<br>\n",
    "                      __unix=0=0<br>\n",
    "                      __archspec=1=x86_64<br>\n",
    "   base environment : /opt/anaconda3  (writable)<br>\n",
    "  conda av data dir : /opt/anaconda3/etc/conda<br>\n",
    "conda av metadata url : None<br>\n",
    "       channel URLs : https://repo.anaconda.com/pkgs/main/osx-64<br>\n",
    "                      https://repo.anaconda.com/pkgs/main/noarch<br>\n",
    "                      https://repo.anaconda.com/pkgs/r/osx-64<br>\n",
    "                      https://repo.anaconda.com/pkgs/r/noarch<br>\n",
    "      package cache : /opt/anaconda3/pkgs<br>\n",
    "                      /Users/shenyunyang/.conda/pkgs<br>\n",
    "   envs directories : /opt/anaconda3/envs<br>\n",
    "                      /Users/shenyunyang/.conda/envs<br>\n",
    "           platform : osx-64<br>\n",
    "         user-agent : conda/4.14.0 requests/2.27.1 CPython/3.9.12 Darwin/21.6.0 OSX/10.16<br>\n",
    "            UID:GID : 501:20<br>\n",
    "         netrc file : None<br>\n",
    "       offline mode : False<br>"
   ]
  },
  {
   "cell_type": "markdown",
   "id": "7b703c5a-22ac-44b4-831a-70df4f5bc88f",
   "metadata": {},
   "source": [
    "## Task 2:"
   ]
  },
  {
   "cell_type": "code",
   "execution_count": 3,
   "id": "1d5319e7-39b3-4219-b428-46745992600f",
   "metadata": {},
   "outputs": [],
   "source": [
    "import numpy as np\n",
    "import scipy.linalg\n",
    "a = np.array([[1., 2., 3.], [4., 5., 6]])"
   ]
  },
  {
   "cell_type": "code",
   "execution_count": 5,
   "id": "f9d00576-8848-4314-81b8-21c6f49f5f2f",
   "metadata": {},
   "outputs": [
    {
     "data": {
      "text/plain": [
       "2"
      ]
     },
     "execution_count": 5,
     "metadata": {},
     "output_type": "execute_result"
    }
   ],
   "source": [
    "a.ndim"
   ]
  },
  {
   "cell_type": "code",
   "execution_count": 6,
   "id": "65633964-26fc-4f46-bf4d-daa09719d346",
   "metadata": {},
   "outputs": [
    {
     "data": {
      "text/plain": [
       "6"
      ]
     },
     "execution_count": 6,
     "metadata": {},
     "output_type": "execute_result"
    }
   ],
   "source": [
    "a.size"
   ]
  },
  {
   "cell_type": "code",
   "execution_count": 7,
   "id": "b38c1c39-2126-47d1-b08c-78648300da6d",
   "metadata": {},
   "outputs": [
    {
     "data": {
      "text/plain": [
       "(2, 3)"
      ]
     },
     "execution_count": 7,
     "metadata": {},
     "output_type": "execute_result"
    }
   ],
   "source": [
    "a.shape"
   ]
  },
  {
   "cell_type": "code",
   "execution_count": 9,
   "id": "a82659b4-efde-4102-a2db-ef5d432c0523",
   "metadata": {},
   "outputs": [
    {
     "data": {
      "text/plain": [
       "3"
      ]
     },
     "execution_count": 9,
     "metadata": {},
     "output_type": "execute_result"
    }
   ],
   "source": [
    "a.shape[1]"
   ]
  },
  {
   "cell_type": "code",
   "execution_count": 10,
   "id": "51660076-a589-40cc-9bc5-8ef30270e1cc",
   "metadata": {},
   "outputs": [
    {
     "data": {
      "text/plain": [
       "2"
      ]
     },
     "execution_count": 10,
     "metadata": {},
     "output_type": "execute_result"
    }
   ],
   "source": [
    "a.shape[0]"
   ]
  },
  {
   "cell_type": "code",
   "execution_count": 12,
   "id": "a08f3345-993f-4806-9d0e-1454db552c3c",
   "metadata": {},
   "outputs": [],
   "source": [
    "a = b = c = d = np.array([[1., 2., 3.], [4., 5., 6]])"
   ]
  },
  {
   "cell_type": "code",
   "execution_count": 13,
   "id": "f8af6bfe-7f81-430a-a753-14c3d98aa2eb",
   "metadata": {},
   "outputs": [
    {
     "data": {
      "text/plain": [
       "array([[1., 2., 3., 1., 2., 3.],\n",
       "       [4., 5., 6., 4., 5., 6.],\n",
       "       [1., 2., 3., 1., 2., 3.],\n",
       "       [4., 5., 6., 4., 5., 6.]])"
      ]
     },
     "execution_count": 13,
     "metadata": {},
     "output_type": "execute_result"
    }
   ],
   "source": [
    "np.block([[a, b], [c, d]])"
   ]
  },
  {
   "cell_type": "code",
   "execution_count": 14,
   "id": "b9bf11cd-9e7c-4892-8d11-260a6fb95c17",
   "metadata": {},
   "outputs": [
    {
     "data": {
      "text/plain": [
       "array([4., 5., 6.])"
      ]
     },
     "execution_count": 14,
     "metadata": {},
     "output_type": "execute_result"
    }
   ],
   "source": [
    "a[-1]"
   ]
  },
  {
   "cell_type": "code",
   "execution_count": 15,
   "id": "e6edd275-1131-43ef-a6ca-73f413e2b99d",
   "metadata": {},
   "outputs": [
    {
     "data": {
      "text/plain": [
       "2.0"
      ]
     },
     "execution_count": 15,
     "metadata": {},
     "output_type": "execute_result"
    }
   ],
   "source": [
    "a[0, 1]"
   ]
  },
  {
   "cell_type": "code",
   "execution_count": 16,
   "id": "c1704535-2500-44ee-852f-7c82aaaa41c4",
   "metadata": {},
   "outputs": [
    {
     "data": {
      "text/plain": [
       "array([1., 2., 3.])"
      ]
     },
     "execution_count": 16,
     "metadata": {},
     "output_type": "execute_result"
    }
   ],
   "source": [
    "a[0]"
   ]
  },
  {
   "cell_type": "code",
   "execution_count": 17,
   "id": "5a61ab1e-6fb8-4fd1-945b-2b216e8f7b7a",
   "metadata": {},
   "outputs": [
    {
     "data": {
      "text/plain": [
       "array([[1., 2., 3.]])"
      ]
     },
     "execution_count": 17,
     "metadata": {},
     "output_type": "execute_result"
    }
   ],
   "source": [
    "a[:1, :]"
   ]
  },
  {
   "cell_type": "code",
   "execution_count": 18,
   "id": "1839e16b-c446-4be8-af48-079f9abb5291",
   "metadata": {},
   "outputs": [
    {
     "data": {
      "text/plain": [
       "array([[4., 5., 6.]])"
      ]
     },
     "execution_count": 18,
     "metadata": {},
     "output_type": "execute_result"
    }
   ],
   "source": [
    "a[-1:]"
   ]
  },
  {
   "cell_type": "code",
   "execution_count": 19,
   "id": "775b8c24-a6de-4083-bf3a-40570582d558",
   "metadata": {},
   "outputs": [
    {
     "data": {
      "text/plain": [
       "array([[2., 3.]])"
      ]
     },
     "execution_count": 19,
     "metadata": {},
     "output_type": "execute_result"
    }
   ],
   "source": [
    "a[0:1, 1:3]"
   ]
  },
  {
   "cell_type": "code",
   "execution_count": 22,
   "id": "288c9712-3f02-41b9-b755-4760b5681dbf",
   "metadata": {},
   "outputs": [
    {
     "data": {
      "text/plain": [
       "array([[2., 3.],\n",
       "       [5., 6.]])"
      ]
     },
     "execution_count": 22,
     "metadata": {},
     "output_type": "execute_result"
    }
   ],
   "source": [
    "a[np.ix_([0,1],[1,2])]"
   ]
  },
  {
   "cell_type": "code",
   "execution_count": 29,
   "id": "6ea3ea3d-b135-44ca-976a-9f2df98c028c",
   "metadata": {},
   "outputs": [
    {
     "data": {
      "text/plain": [
       "array([[4., 5., 6.]])"
      ]
     },
     "execution_count": 29,
     "metadata": {},
     "output_type": "execute_result"
    }
   ],
   "source": [
    "a[1:3:2, :]"
   ]
  },
  {
   "cell_type": "code",
   "execution_count": 31,
   "id": "0d57c138-7132-4c52-afae-7709bb56bbdc",
   "metadata": {},
   "outputs": [
    {
     "data": {
      "text/plain": [
       "array([[4., 5., 6.],\n",
       "       [1., 2., 3.]])"
      ]
     },
     "execution_count": 31,
     "metadata": {},
     "output_type": "execute_result"
    }
   ],
   "source": [
    "a[::-1, :]"
   ]
  },
  {
   "cell_type": "code",
   "execution_count": 32,
   "id": "0dbd77df-f849-48d0-8a47-9d2b1bb25146",
   "metadata": {},
   "outputs": [
    {
     "data": {
      "text/plain": [
       "array([[1., 2., 3.],\n",
       "       [4., 5., 6.],\n",
       "       [1., 2., 3.]])"
      ]
     },
     "execution_count": 32,
     "metadata": {},
     "output_type": "execute_result"
    }
   ],
   "source": [
    "a[np.r_[:len(a),0]]"
   ]
  },
  {
   "cell_type": "code",
   "execution_count": 33,
   "id": "9bdaf259-caaf-4b83-b2ba-1b324b373e99",
   "metadata": {},
   "outputs": [
    {
     "data": {
      "text/plain": [
       "array([[1., 4.],\n",
       "       [2., 5.],\n",
       "       [3., 6.]])"
      ]
     },
     "execution_count": 33,
     "metadata": {},
     "output_type": "execute_result"
    }
   ],
   "source": [
    "a.T"
   ]
  },
  {
   "cell_type": "code",
   "execution_count": 34,
   "id": "52a05460-e780-4760-ba31-6ab323d548e2",
   "metadata": {},
   "outputs": [
    {
     "data": {
      "text/plain": [
       "array([[1., 4.],\n",
       "       [2., 5.],\n",
       "       [3., 6.]])"
      ]
     },
     "execution_count": 34,
     "metadata": {},
     "output_type": "execute_result"
    }
   ],
   "source": [
    "a.conj().T"
   ]
  },
  {
   "cell_type": "code",
   "execution_count": 38,
   "id": "09b08d61-4013-4983-9e4b-187e96930aee",
   "metadata": {},
   "outputs": [
    {
     "data": {
      "text/plain": [
       "array([[22, 28],\n",
       "       [49, 64]])"
      ]
     },
     "execution_count": 38,
     "metadata": {},
     "output_type": "execute_result"
    }
   ],
   "source": [
    "a = np.array([[1,2,3],[4,5,6]])\n",
    "b = np.array([[1,2],[3,4],[5,6]])\n",
    "a@b"
   ]
  },
  {
   "cell_type": "code",
   "execution_count": 40,
   "id": "86f4aaae-8ade-4218-b9cd-f9425ef0ee31",
   "metadata": {},
   "outputs": [
    {
     "data": {
      "text/plain": [
       "array([[ 1,  4,  9],\n",
       "       [16, 25, 36]])"
      ]
     },
     "execution_count": 40,
     "metadata": {},
     "output_type": "execute_result"
    }
   ],
   "source": [
    "a = b = np.array([[1,2,3],[4,5,6]])\n",
    "a * b"
   ]
  },
  {
   "cell_type": "code",
   "execution_count": 41,
   "id": "11e75431-16f6-4e77-b370-8a41e850b5d1",
   "metadata": {},
   "outputs": [
    {
     "data": {
      "text/plain": [
       "array([[1., 1., 1.],\n",
       "       [1., 1., 1.]])"
      ]
     },
     "execution_count": 41,
     "metadata": {},
     "output_type": "execute_result"
    }
   ],
   "source": [
    "a / b"
   ]
  },
  {
   "cell_type": "code",
   "execution_count": 42,
   "id": "fe2299ea-0575-451f-80c5-d78e03b4f78c",
   "metadata": {},
   "outputs": [
    {
     "data": {
      "text/plain": [
       "array([[  1,   8,  27],\n",
       "       [ 64, 125, 216]])"
      ]
     },
     "execution_count": 42,
     "metadata": {},
     "output_type": "execute_result"
    }
   ],
   "source": [
    "a ** 3"
   ]
  },
  {
   "cell_type": "code",
   "execution_count": 43,
   "id": "2020ea3b-b44f-484c-a147-05b6e9af58d2",
   "metadata": {},
   "outputs": [
    {
     "data": {
      "text/plain": [
       "array([[False, False,  True],\n",
       "       [ True,  True,  True]])"
      ]
     },
     "execution_count": 43,
     "metadata": {},
     "output_type": "execute_result"
    }
   ],
   "source": [
    "(a > 2)"
   ]
  },
  {
   "cell_type": "code",
   "execution_count": 44,
   "id": "0fa87efd-64c1-4790-a923-2a3e18497da7",
   "metadata": {},
   "outputs": [
    {
     "data": {
      "text/plain": [
       "(array([0, 0, 0, 1, 1, 1]), array([0, 1, 2, 0, 1, 2]))"
      ]
     },
     "execution_count": 44,
     "metadata": {},
     "output_type": "execute_result"
    }
   ],
   "source": [
    "np.nonzero(a > 0.5)"
   ]
  },
  {
   "cell_type": "code",
   "execution_count": 46,
   "id": "4f8db7d9-adef-4aa5-b5f8-d94cb139f799",
   "metadata": {},
   "outputs": [
    {
     "data": {
      "text/plain": [
       "array([[1, 1, 1, 2, 2, 2],\n",
       "       [4, 4, 4, 5, 5, 5]])"
      ]
     },
     "execution_count": 46,
     "metadata": {},
     "output_type": "execute_result"
    }
   ],
   "source": [
    "a[:,np.nonzero(a > 0.5)[0]]"
   ]
  },
  {
   "cell_type": "code",
   "execution_count": 75,
   "id": "157f45da-939a-432b-ae5b-fe5aacc57694",
   "metadata": {},
   "outputs": [
    {
     "data": {
      "text/plain": [
       "array([3, 4, 5, 6])"
      ]
     },
     "execution_count": 75,
     "metadata": {},
     "output_type": "execute_result"
    }
   ],
   "source": [
    "a[a > 2]"
   ]
  },
  {
   "cell_type": "code",
   "execution_count": 78,
   "id": "2c9d6436-c061-4b6d-a894-8d5901791db5",
   "metadata": {},
   "outputs": [],
   "source": [
    "a[a < 2]=0"
   ]
  },
  {
   "cell_type": "code",
   "execution_count": 79,
   "id": "1a7a0b88-11bb-4af9-a55a-84d7b5ae61b2",
   "metadata": {},
   "outputs": [
    {
     "data": {
      "text/plain": [
       "array([[0, 2, 3],\n",
       "       [4, 5, 6]])"
      ]
     },
     "execution_count": 79,
     "metadata": {},
     "output_type": "execute_result"
    }
   ],
   "source": [
    "a"
   ]
  },
  {
   "cell_type": "code",
   "execution_count": 80,
   "id": "b7f357be-6b4b-4828-a282-c4b541702d3f",
   "metadata": {},
   "outputs": [
    {
     "data": {
      "text/plain": [
       "array([[0, 0, 3],\n",
       "       [4, 5, 6]])"
      ]
     },
     "execution_count": 80,
     "metadata": {},
     "output_type": "execute_result"
    }
   ],
   "source": [
    "a * (a > 2)"
   ]
  },
  {
   "cell_type": "code",
   "execution_count": 81,
   "id": "62981c93-fd0f-4f3a-862b-a89905025cf2",
   "metadata": {},
   "outputs": [],
   "source": [
    "a[:] = 3"
   ]
  },
  {
   "cell_type": "code",
   "execution_count": 82,
   "id": "0d0ff245-140b-4672-b841-d93c73de8f91",
   "metadata": {},
   "outputs": [],
   "source": [
    "a = b.copy()"
   ]
  },
  {
   "cell_type": "code",
   "execution_count": 83,
   "id": "dd35803c-2616-4577-bb1a-20c0a5838c4c",
   "metadata": {},
   "outputs": [
    {
     "data": {
      "text/plain": [
       "array([3, 3, 3])"
      ]
     },
     "execution_count": 83,
     "metadata": {},
     "output_type": "execute_result"
    }
   ],
   "source": [
    "x = a[1, :].copy()\n",
    "x"
   ]
  },
  {
   "cell_type": "code",
   "execution_count": 84,
   "id": "c6f1e728-2200-4b10-8255-e6da1189401b",
   "metadata": {},
   "outputs": [
    {
     "data": {
      "text/plain": [
       "array([3, 3, 3, 3, 3, 3])"
      ]
     },
     "execution_count": 84,
     "metadata": {},
     "output_type": "execute_result"
    }
   ],
   "source": [
    "x = a.flatten()\n",
    "x"
   ]
  },
  {
   "cell_type": "code",
   "execution_count": 85,
   "id": "50a16d1b-d52d-4439-aa16-72f362787d59",
   "metadata": {},
   "outputs": [
    {
     "data": {
      "text/plain": [
       "array([ 1.,  2.,  3.,  4.,  5.,  6.,  7.,  8.,  9., 10.])"
      ]
     },
     "execution_count": 85,
     "metadata": {},
     "output_type": "execute_result"
    }
   ],
   "source": [
    "np.arange(1., 11.)"
   ]
  },
  {
   "cell_type": "code",
   "execution_count": 86,
   "id": "832f17d0-fd84-43e9-8bbf-02f7f4f124b2",
   "metadata": {},
   "outputs": [
    {
     "data": {
      "text/plain": [
       "array([[ 1.],\n",
       "       [ 2.],\n",
       "       [ 3.],\n",
       "       [ 4.],\n",
       "       [ 5.],\n",
       "       [ 6.],\n",
       "       [ 7.],\n",
       "       [ 8.],\n",
       "       [ 9.],\n",
       "       [10.]])"
      ]
     },
     "execution_count": 86,
     "metadata": {},
     "output_type": "execute_result"
    }
   ],
   "source": [
    "np.arange(1.,11.)[:, np.newaxis]"
   ]
  },
  {
   "cell_type": "code",
   "execution_count": 87,
   "id": "9584a233-8a22-4187-8527-49b52621afa5",
   "metadata": {},
   "outputs": [
    {
     "data": {
      "text/plain": [
       "array([[0., 0., 0., 0.],\n",
       "       [0., 0., 0., 0.],\n",
       "       [0., 0., 0., 0.]])"
      ]
     },
     "execution_count": 87,
     "metadata": {},
     "output_type": "execute_result"
    }
   ],
   "source": [
    "np.zeros((3, 4))"
   ]
  },
  {
   "cell_type": "code",
   "execution_count": 88,
   "id": "4da04480-1b87-4349-bc11-f58f280cb0db",
   "metadata": {},
   "outputs": [
    {
     "data": {
      "text/plain": [
       "array([[[0., 0., 0., 0., 0.],\n",
       "        [0., 0., 0., 0., 0.],\n",
       "        [0., 0., 0., 0., 0.],\n",
       "        [0., 0., 0., 0., 0.]],\n",
       "\n",
       "       [[0., 0., 0., 0., 0.],\n",
       "        [0., 0., 0., 0., 0.],\n",
       "        [0., 0., 0., 0., 0.],\n",
       "        [0., 0., 0., 0., 0.]],\n",
       "\n",
       "       [[0., 0., 0., 0., 0.],\n",
       "        [0., 0., 0., 0., 0.],\n",
       "        [0., 0., 0., 0., 0.],\n",
       "        [0., 0., 0., 0., 0.]]])"
      ]
     },
     "execution_count": 88,
     "metadata": {},
     "output_type": "execute_result"
    }
   ],
   "source": [
    "np.zeros((3, 4, 5))"
   ]
  },
  {
   "cell_type": "code",
   "execution_count": 89,
   "id": "3b927eb1-5a74-480c-bfb3-2470e37a1255",
   "metadata": {},
   "outputs": [
    {
     "data": {
      "text/plain": [
       "array([[1., 1., 1., 1.],\n",
       "       [1., 1., 1., 1.],\n",
       "       [1., 1., 1., 1.]])"
      ]
     },
     "execution_count": 89,
     "metadata": {},
     "output_type": "execute_result"
    }
   ],
   "source": [
    "np.ones((3, 4))"
   ]
  },
  {
   "cell_type": "code",
   "execution_count": 90,
   "id": "28be6390-8d18-412d-94da-3227c5de3653",
   "metadata": {},
   "outputs": [
    {
     "data": {
      "text/plain": [
       "array([[1., 0., 0.],\n",
       "       [0., 1., 0.],\n",
       "       [0., 0., 1.]])"
      ]
     },
     "execution_count": 90,
     "metadata": {},
     "output_type": "execute_result"
    }
   ],
   "source": [
    "np.eye(3)"
   ]
  },
  {
   "cell_type": "code",
   "execution_count": 91,
   "id": "672f6ea7-2dda-4140-b244-31ff88989ab2",
   "metadata": {},
   "outputs": [
    {
     "data": {
      "text/plain": [
       "array([3, 3])"
      ]
     },
     "execution_count": 91,
     "metadata": {},
     "output_type": "execute_result"
    }
   ],
   "source": [
    "np.diag(a)"
   ]
  },
  {
   "cell_type": "code",
   "execution_count": 92,
   "id": "b4e555e9-bd6c-4ffa-b6c9-ea151cd7d722",
   "metadata": {},
   "outputs": [
    {
     "data": {
      "text/plain": [
       "array([3, 3])"
      ]
     },
     "execution_count": 92,
     "metadata": {},
     "output_type": "execute_result"
    }
   ],
   "source": [
    "np.diag(a, 0)"
   ]
  },
  {
   "cell_type": "code",
   "execution_count": 97,
   "id": "19d3003f-a111-41f6-b078-82b333065ad2",
   "metadata": {},
   "outputs": [
    {
     "data": {
      "text/plain": [
       "array([[0.6762476 , 0.8415255 , 0.04852622, 0.72508273],\n",
       "       [0.27987119, 0.16915743, 0.46860979, 0.45119005],\n",
       "       [0.76075923, 0.61213405, 0.50863661, 0.99426458]])"
      ]
     },
     "execution_count": 97,
     "metadata": {},
     "output_type": "execute_result"
    }
   ],
   "source": [
    "from numpy.random import default_rng\n",
    "rng = default_rng(42)\n",
    "np.random.rand(3, 4)"
   ]
  },
  {
   "cell_type": "code",
   "execution_count": 98,
   "id": "f5b2966d-3885-4320-9bf9-052804783fa3",
   "metadata": {},
   "outputs": [
    {
     "data": {
      "text/plain": [
       "array([1.        , 1.66666667, 2.33333333, 3.        ])"
      ]
     },
     "execution_count": 98,
     "metadata": {},
     "output_type": "execute_result"
    }
   ],
   "source": [
    "np.linspace(1,3,4)"
   ]
  },
  {
   "cell_type": "code",
   "execution_count": 99,
   "id": "649635e2-094b-485a-b31f-8854bbdef5b6",
   "metadata": {},
   "outputs": [
    {
     "data": {
      "text/plain": [
       "array([[[0., 0., 0., 0., 0., 0.],\n",
       "        [1., 1., 1., 1., 1., 1.],\n",
       "        [2., 2., 2., 2., 2., 2.],\n",
       "        [3., 3., 3., 3., 3., 3.],\n",
       "        [4., 4., 4., 4., 4., 4.],\n",
       "        [5., 5., 5., 5., 5., 5.],\n",
       "        [6., 6., 6., 6., 6., 6.],\n",
       "        [7., 7., 7., 7., 7., 7.],\n",
       "        [8., 8., 8., 8., 8., 8.]],\n",
       "\n",
       "       [[0., 1., 2., 3., 4., 5.],\n",
       "        [0., 1., 2., 3., 4., 5.],\n",
       "        [0., 1., 2., 3., 4., 5.],\n",
       "        [0., 1., 2., 3., 4., 5.],\n",
       "        [0., 1., 2., 3., 4., 5.],\n",
       "        [0., 1., 2., 3., 4., 5.],\n",
       "        [0., 1., 2., 3., 4., 5.],\n",
       "        [0., 1., 2., 3., 4., 5.],\n",
       "        [0., 1., 2., 3., 4., 5.]]])"
      ]
     },
     "execution_count": 99,
     "metadata": {},
     "output_type": "execute_result"
    }
   ],
   "source": [
    "np.mgrid[0:9.,0:6.]"
   ]
  },
  {
   "cell_type": "code",
   "execution_count": 100,
   "id": "f2722c29-e413-4560-a28e-c96978fdd303",
   "metadata": {},
   "outputs": [
    {
     "data": {
      "text/plain": [
       "[array([[1, 2, 4],\n",
       "        [1, 2, 4],\n",
       "        [1, 2, 4]]),\n",
       " array([[2, 2, 2],\n",
       "        [4, 4, 4],\n",
       "        [5, 5, 5]])]"
      ]
     },
     "execution_count": 100,
     "metadata": {},
     "output_type": "execute_result"
    }
   ],
   "source": [
    "np.meshgrid([1,2,4],[2,4,5])"
   ]
  },
  {
   "cell_type": "code",
   "execution_count": 103,
   "id": "a40cb586-a64a-47f5-8ecc-f8ee2820996b",
   "metadata": {},
   "outputs": [
    {
     "data": {
      "text/plain": [
       "array([[3, 3, 3, 3, 3, 3],\n",
       "       [3, 3, 3, 3, 3, 3],\n",
       "       [3, 3, 3, 3, 3, 3],\n",
       "       [3, 3, 3, 3, 3, 3]])"
      ]
     },
     "execution_count": 103,
     "metadata": {},
     "output_type": "execute_result"
    }
   ],
   "source": [
    "np.tile(a, (2, 2))"
   ]
  },
  {
   "cell_type": "code",
   "execution_count": 104,
   "id": "2c8bfe75-fc6d-465c-8d9e-50f3db576852",
   "metadata": {},
   "outputs": [
    {
     "data": {
      "text/plain": [
       "array([[3, 3, 3, 3, 3, 3],\n",
       "       [3, 3, 3, 3, 3, 3]])"
      ]
     },
     "execution_count": 104,
     "metadata": {},
     "output_type": "execute_result"
    }
   ],
   "source": [
    "np.hstack((a,b))"
   ]
  },
  {
   "cell_type": "code",
   "execution_count": 105,
   "id": "10ea4070-2bc1-4d8b-80f7-5eb529595071",
   "metadata": {},
   "outputs": [
    {
     "data": {
      "text/plain": [
       "array([[3, 3, 3],\n",
       "       [3, 3, 3],\n",
       "       [3, 3, 3],\n",
       "       [3, 3, 3]])"
      ]
     },
     "execution_count": 105,
     "metadata": {},
     "output_type": "execute_result"
    }
   ],
   "source": [
    "np.concatenate((a,b))"
   ]
  },
  {
   "cell_type": "code",
   "execution_count": 106,
   "id": "92f55846-bbc2-4dd3-96d1-ea4f99eb4ba9",
   "metadata": {},
   "outputs": [
    {
     "data": {
      "text/plain": [
       "3"
      ]
     },
     "execution_count": 106,
     "metadata": {},
     "output_type": "execute_result"
    }
   ],
   "source": [
    "a.max()"
   ]
  },
  {
   "cell_type": "code",
   "execution_count": 107,
   "id": "e9b6e30b-351a-410f-8098-454bb5b87084",
   "metadata": {},
   "outputs": [
    {
     "data": {
      "text/plain": [
       "array([3, 3, 3])"
      ]
     },
     "execution_count": 107,
     "metadata": {},
     "output_type": "execute_result"
    }
   ],
   "source": [
    "a.max(0)"
   ]
  },
  {
   "cell_type": "code",
   "execution_count": 108,
   "id": "cd31499e-99ee-4211-bd1d-303a025078aa",
   "metadata": {},
   "outputs": [
    {
     "data": {
      "text/plain": [
       "array([3, 3])"
      ]
     },
     "execution_count": 108,
     "metadata": {},
     "output_type": "execute_result"
    }
   ],
   "source": [
    "a.max(1)"
   ]
  },
  {
   "cell_type": "code",
   "execution_count": 110,
   "id": "6ee3460a-7ca2-436b-978e-a56b73b62fd9",
   "metadata": {},
   "outputs": [
    {
     "data": {
      "text/plain": [
       "array([[3., 3., 3.],\n",
       "       [4., 5., 6.]])"
      ]
     },
     "execution_count": 110,
     "metadata": {},
     "output_type": "execute_result"
    }
   ],
   "source": [
    "np.maximum(a, c)"
   ]
  },
  {
   "cell_type": "code",
   "execution_count": 114,
   "id": "3241b9f7-e32f-4a2d-a275-cd349ea5dce1",
   "metadata": {},
   "outputs": [
    {
     "data": {
      "text/plain": [
       "7.3484692283495345"
      ]
     },
     "execution_count": 114,
     "metadata": {},
     "output_type": "execute_result"
    }
   ],
   "source": [
    "np.linalg.norm(a)"
   ]
  },
  {
   "cell_type": "code",
   "execution_count": 116,
   "id": "084b1ee9-ea5b-4617-8cd0-dd0ddc088b12",
   "metadata": {},
   "outputs": [
    {
     "data": {
      "text/plain": [
       "array([[ True,  True,  True],\n",
       "       [ True,  True,  True]])"
      ]
     },
     "execution_count": 116,
     "metadata": {},
     "output_type": "execute_result"
    }
   ],
   "source": [
    "np.logical_and(a,c)"
   ]
  },
  {
   "cell_type": "code",
   "execution_count": 117,
   "id": "5f072664-83ea-4a84-90e5-92076abc6793",
   "metadata": {},
   "outputs": [
    {
     "data": {
      "text/plain": [
       "array([[ True,  True,  True],\n",
       "       [ True,  True,  True]])"
      ]
     },
     "execution_count": 117,
     "metadata": {},
     "output_type": "execute_result"
    }
   ],
   "source": [
    "np.logical_or(a,c)"
   ]
  },
  {
   "cell_type": "code",
   "execution_count": 119,
   "id": "701de33b-5300-413a-befd-bbe91d6b345d",
   "metadata": {},
   "outputs": [
    {
     "data": {
      "text/plain": [
       "array([[3, 3, 3],\n",
       "       [3, 3, 3]])"
      ]
     },
     "execution_count": 119,
     "metadata": {},
     "output_type": "execute_result"
    }
   ],
   "source": [
    "a & b"
   ]
  },
  {
   "cell_type": "code",
   "execution_count": 120,
   "id": "7600c67d-957c-48b0-bea1-c3eaab94e43d",
   "metadata": {},
   "outputs": [
    {
     "data": {
      "text/plain": [
       "array([[3, 3, 3],\n",
       "       [3, 3, 3]])"
      ]
     },
     "execution_count": 120,
     "metadata": {},
     "output_type": "execute_result"
    }
   ],
   "source": [
    "a | b"
   ]
  },
  {
   "cell_type": "code",
   "execution_count": 124,
   "id": "c852d94a-1326-4eb9-87d4-6ee3470bab52",
   "metadata": {},
   "outputs": [
    {
     "data": {
      "text/plain": [
       "array([[-2.5,  1.5],\n",
       "       [ 2. , -1. ]])"
      ]
     },
     "execution_count": 124,
     "metadata": {},
     "output_type": "execute_result"
    }
   ],
   "source": [
    "a = np.array([[2,3],[4,5]])\n",
    "np.linalg.inv(a)"
   ]
  },
  {
   "cell_type": "code",
   "execution_count": 126,
   "id": "d7e2aeae-1817-4c59-8fc2-7f397b0dba17",
   "metadata": {},
   "outputs": [
    {
     "data": {
      "text/plain": [
       "array([[-2.5,  1.5],\n",
       "       [ 2. , -1. ]])"
      ]
     },
     "execution_count": 126,
     "metadata": {},
     "output_type": "execute_result"
    }
   ],
   "source": [
    "np.linalg.pinv(a)"
   ]
  },
  {
   "cell_type": "code",
   "execution_count": 127,
   "id": "4f5e0d3f-4945-48b3-94cb-b963bb066d5c",
   "metadata": {},
   "outputs": [
    {
     "data": {
      "text/plain": [
       "2"
      ]
     },
     "execution_count": 127,
     "metadata": {},
     "output_type": "execute_result"
    }
   ],
   "source": [
    "np.linalg.matrix_rank(a)"
   ]
  },
  {
   "cell_type": "code",
   "execution_count": 128,
   "id": "5c8a5599-8ced-4dc1-8756-cadad262d8c2",
   "metadata": {},
   "outputs": [
    {
     "data": {
      "text/plain": [
       "array([[-3., -3., -3.],\n",
       "       [ 3.,  3.,  3.]])"
      ]
     },
     "execution_count": 128,
     "metadata": {},
     "output_type": "execute_result"
    }
   ],
   "source": [
    "np.linalg.solve(a, b)"
   ]
  },
  {
   "cell_type": "code",
   "execution_count": 137,
   "id": "8abfbc0b-ff5d-41c0-881e-02b69916932f",
   "metadata": {},
   "outputs": [
    {
     "data": {
      "text/plain": [
       "(array([-0.27491722,  7.27491722]),\n",
       " array([[-0.79681209, -0.49436913],\n",
       "        [ 0.60422718, -0.86925207]]))"
      ]
     },
     "execution_count": 137,
     "metadata": {},
     "output_type": "execute_result"
    }
   ],
   "source": [
    "np.linalg.eig(a)"
   ]
  },
  {
   "cell_type": "code",
   "execution_count": 141,
   "id": "94e80178-89ab-40da-ac03-0a5eec841962",
   "metadata": {},
   "outputs": [
    {
     "data": {
      "text/plain": [
       "(array([[-0.4472136 , -0.89442719],\n",
       "        [-0.89442719,  0.4472136 ]]),\n",
       " array([[-4.47213595, -5.81377674],\n",
       "        [ 0.        , -0.4472136 ]]))"
      ]
     },
     "execution_count": 141,
     "metadata": {},
     "output_type": "execute_result"
    }
   ],
   "source": [
    "np.linalg.qr(a)"
   ]
  },
  {
   "cell_type": "code",
   "execution_count": 147,
   "id": "2f3c3690-fa38-4ab2-a975-5539ae6871dd",
   "metadata": {},
   "outputs": [
    {
     "data": {
      "text/plain": [
       "array([[ 5.+0.j, -1.+0.j],\n",
       "       [ 9.+0.j, -1.+0.j]])"
      ]
     },
     "execution_count": 147,
     "metadata": {},
     "output_type": "execute_result"
    }
   ],
   "source": [
    "np.fft.fft(a)"
   ]
  },
  {
   "cell_type": "code",
   "execution_count": 148,
   "id": "7107d316-1bc9-4976-a3a2-1f52b2fce8d3",
   "metadata": {},
   "outputs": [
    {
     "data": {
      "text/plain": [
       "array([[ 2.5+0.j, -0.5+0.j],\n",
       "       [ 4.5+0.j, -0.5+0.j]])"
      ]
     },
     "execution_count": 148,
     "metadata": {},
     "output_type": "execute_result"
    }
   ],
   "source": [
    "np.fft.ifft(a)"
   ]
  },
  {
   "cell_type": "code",
   "execution_count": 149,
   "id": "a04e3cd4-7984-4bdc-8d18-e343a027c27c",
   "metadata": {},
   "outputs": [
    {
     "data": {
      "text/plain": [
       "array([[2, 3],\n",
       "       [4, 5]])"
      ]
     },
     "execution_count": 149,
     "metadata": {},
     "output_type": "execute_result"
    }
   ],
   "source": [
    "np.sort(a)"
   ]
  },
  {
   "cell_type": "code",
   "execution_count": 150,
   "id": "3bf66293-f25f-4e4f-b0a6-c1f8527caefe",
   "metadata": {},
   "outputs": [
    {
     "data": {
      "text/plain": [
       "array([[2, 3],\n",
       "       [4, 5]])"
      ]
     },
     "execution_count": 150,
     "metadata": {},
     "output_type": "execute_result"
    }
   ],
   "source": [
    "np.sort(a, axis = 1)"
   ]
  },
  {
   "cell_type": "code",
   "execution_count": 151,
   "id": "79d96b9b-4cdc-4fa0-8206-feea02237abd",
   "metadata": {},
   "outputs": [],
   "source": [
    "I = np.argsort(a[:, 0])"
   ]
  },
  {
   "cell_type": "code",
   "execution_count": 156,
   "id": "beffe165-3392-4540-8338-3097a399b4ea",
   "metadata": {},
   "outputs": [
    {
     "name": "stderr",
     "output_type": "stream",
     "text": [
      "/var/folders/mv/qwn4_7rn6dg3shnpzprl26fh0000gn/T/ipykernel_60721/1965892253.py:1: FutureWarning: `rcond` parameter will change to the default of machine precision times ``max(M, N)`` where M and N are the input matrix dimensions.\n",
      "To use the future default and silence this warning we advise to pass `rcond=None`, to keep using the old, explicitly pass `rcond=-1`.\n",
      "  a = np.linalg.lstsq(a, a)\n"
     ]
    }
   ],
   "source": [
    "a = np.linalg.lstsq(a, a)"
   ]
  },
  {
   "cell_type": "code",
   "execution_count": 164,
   "id": "0ce9b833-a061-482f-8c3e-f6cddcaf3298",
   "metadata": {},
   "outputs": [
    {
     "data": {
      "text/plain": [
       "array([3])"
      ]
     },
     "execution_count": 164,
     "metadata": {},
     "output_type": "execute_result"
    }
   ],
   "source": [
    "np.unique(x)"
   ]
  },
  {
   "cell_type": "code",
   "execution_count": 166,
   "id": "bc6833ca-3377-4541-806a-d848785d996c",
   "metadata": {},
   "outputs": [
    {
     "data": {
      "text/plain": [
       "array([3, 3, 3, 3, 3, 3])"
      ]
     },
     "execution_count": 166,
     "metadata": {},
     "output_type": "execute_result"
    }
   ],
   "source": [
    "x.squeeze()"
   ]
  },
  {
   "cell_type": "markdown",
   "id": "233ee7db-c14f-468f-bdaa-fd635f3bf95f",
   "metadata": {},
   "source": [
    "## Task 3:"
   ]
  },
  {
   "cell_type": "code",
   "execution_count": 167,
   "id": "b4dfce09-30a8-4533-8103-9838ddc4da5f",
   "metadata": {},
   "outputs": [
    {
     "data": {
      "image/png": "[encoded data removed]",
      "text/plain": [
       "<Figure size 432x288 with 1 Axes>"
      ]
     },
     "metadata": {
      "needs_background": "light"
     },
     "output_type": "display_data"
    }
   ],
   "source": [
    "import matplotlib.pyplot as plt\n",
    "plt.plot([1,2,3,4], [1,2,7,14])\n",
    "plt.axis([0, 6, 0, 20])\n",
    "plt.show()"
   ]
  },
  {
   "cell_type": "markdown",
   "id": "cbce239e-0df5-4157-ba01-788d15758154",
   "metadata": {},
   "source": [
    "## Task 4"
   ]
  },
  {
   "cell_type": "code",
   "execution_count": 178,
   "id": "de6fc972-f481-441b-a6e7-e04cd7909391",
   "metadata": {},
   "outputs": [
    {
     "data": {
      "image/png": "[encoded data removed]",
      "text/plain": [
       "<Figure size 432x288 with 1 Axes>"
      ]
     },
     "metadata": {
      "needs_background": "light"
     },
     "output_type": "display_data"
    }
   ],
   "source": [
    "plt.plot([1,2,3,4,5,6,7], [1,4,9,16,25,36,49])\n",
    "plt.axis([0, 8, 0, 60])\n",
    "plt.show()"
   ]
  },
  {
   "cell_type": "markdown",
   "id": "bebad6bc-cc46-49eb-875b-4bbf82ac658f",
   "metadata": {},
   "source": [
    "## Task 5: "
   ]
  },
  {
   "cell_type": "markdown",
   "id": "7a7f32f5-6781-4584-867e-aa1e65b00184",
   "metadata": {},
   "source": [
    "Github: https://github.com/john20000625"
   ]
  },
  {
   "cell_type": "markdown",
   "id": "4e40eb1b-7d44-4870-adca-90f905a71c41",
   "metadata": {},
   "source": [
    "## Task 6:"
   ]
  },
  {
   "cell_type": "markdown",
   "id": "38a3633a-cf0f-4bed-b04d-5b3c6ea1dbbb",
   "metadata": {},
   "source": [
    "A Github Project: https://github.com/john20000625/COMP-576"
   ]
  }
 ],
 "metadata": {
  "kernelspec": {
   "display_name": "Python 3 (ipykernel)",
   "language": "python",
   "name": "python3"
  },
  "language_info": {
   "codemirror_mode": {
    "name": "ipython",
    "version": 3
   },
   "file_extension": ".py",
   "mimetype": "text/x-python",
   "name": "python",
   "nbconvert_exporter": "python",
   "pygments_lexer": "ipython3",
   "version": "3.9.12"
  }
 },
 "nbformat": 4,
 "nbformat_minor": 5
}
